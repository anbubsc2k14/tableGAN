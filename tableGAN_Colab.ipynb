{
  "nbformat": 4,
  "nbformat_minor": 0,
  "metadata": {
    "colab": {
      "name": "Colab's New Code Editor",
      "provenance": [],
      "collapsed_sections": [],
      "include_colab_link": true
    },
    "kernelspec": {
      "display_name": "Python 3",
      "name": "python3"
    }
  },
  "cells": [
    {
      "cell_type": "markdown",
      "metadata": {
        "id": "view-in-github",
        "colab_type": "text"
      },
      "source": [
        "<a href=\"https://colab.research.google.com/github/anbubsc2k14/tableGAN/blob/master/tableGAN_Colab.ipynb\" target=\"_parent\"><img src=\"https://colab.research.google.com/assets/colab-badge.svg\" alt=\"Open In Colab\"/></a>"
      ]
    },
    {
      "cell_type": "markdown",
      "metadata": {
        "colab_type": "text",
        "id": "qTXOGdaz4wy0"
      },
      "source": [
        "# Richer syntax highlighting\n",
        "\n",
        "Improved support for nested languages:\n",
        "\n",
        "```notebook-python\n",
        "df = pd.io.gbq.read_gbq('''\n",
        "  SELECT \n",
        "    REGEXP_EXTRACT(name, '[a-zA-Z]+'),\n",
        "    SUM(number) as count\n",
        "  FROM `bigquery-public-data.usa_names.usa_1910_2013`\n",
        "  WHERE state = 'TX'\n",
        "  GROUP BY name\n",
        "  ORDER BY count DESC\n",
        "  LIMIT 100\n",
        "''')\n",
        "```"
      ]
    },
    {
      "cell_type": "code",
      "metadata": {
        "id": "bmq4yAT0d77a",
        "colab_type": "code",
        "colab": {}
      },
      "source": [
        "!rm -r tableGAN"
      ],
      "execution_count": 0,
      "outputs": []
    },
    {
      "cell_type": "code",
      "metadata": {
        "id": "AzndzNqKd20N",
        "colab_type": "code",
        "colab": {
          "base_uri": "https://localhost:8080/",
          "height": 238
        },
        "outputId": "5ac052ff-4f95-4782-9881-8f0f08128989"
      },
      "source": [
        "!ls -ltr"
      ],
      "execution_count": 8,
      "outputs": [
        {
          "output_type": "stream",
          "text": [
            "total 116\n",
            "drwxr-xr-x 1 root root  4096 Aug 27 16:17 sample_data\n",
            "-rw-r--r-- 1 root root  4666 Sep 30 04:41 README.md\n",
            "-rw-r--r-- 1 root root     0 Sep 30 04:41 __init__.py\n",
            "drwxr-xr-x 4 root root  4096 Sep 30 04:41 data\n",
            "-rw-r--r-- 1 root root  7200 Sep 30 04:41 main.py\n",
            "-rwxr-xr-x 1 root root    95 Sep 30 04:41 generate_Adult.sh\n",
            "-rw-r--r-- 1 root root  3738 Sep 30 04:41 eval.py\n",
            "-rw-r--r-- 1 root root 19284 Sep 30 04:41 utils.py\n",
            "-rwxr-xr-x 1 root root   328 Sep 30 04:41 train_Adult.sh\n",
            "-rw-r--r-- 1 root root 11082 Sep 30 04:41 preprocess_data.ipynb\n",
            "-rw-r--r-- 1 root root  5132 Sep 30 04:41 ops.py\n",
            "-rw-r--r-- 1 root root 38398 Sep 30 04:41 model.py\n"
          ],
          "name": "stdout"
        }
      ]
    },
    {
      "cell_type": "code",
      "metadata": {
        "id": "zRc-yXuGdj0y",
        "colab_type": "code",
        "colab": {
          "base_uri": "https://localhost:8080/",
          "height": 34
        },
        "outputId": "c6c41351-66ed-485a-f8e0-636c12db4798"
      },
      "source": [
        "!git init"
      ],
      "execution_count": 1,
      "outputs": [
        {
          "output_type": "stream",
          "text": [
            "Initialized empty Git repository in /content/.git/\n"
          ],
          "name": "stdout"
        }
      ]
    },
    {
      "cell_type": "code",
      "metadata": {
        "id": "UbYJUb5OdNFj",
        "colab_type": "code",
        "colab": {
          "base_uri": "https://localhost:8080/",
          "height": 153
        },
        "outputId": "ff722ab6-c8a8-4251-d8fe-02e1884eceb7"
      },
      "source": [
        "!git pull https://github.com/anbubsc2k14/tableGAN"
      ],
      "execution_count": 7,
      "outputs": [
        {
          "output_type": "stream",
          "text": [
            "remote: Enumerating objects: 64, done.\u001b[K\n",
            "remote: Counting objects:   1% (1/64)\u001b[K\rremote: Counting objects:   3% (2/64)\u001b[K\rremote: Counting objects:   4% (3/64)\u001b[K\rremote: Counting objects:   6% (4/64)\u001b[K\rremote: Counting objects:   7% (5/64)\u001b[K\rremote: Counting objects:   9% (6/64)\u001b[K\rremote: Counting objects:  10% (7/64)\u001b[K\rremote: Counting objects:  12% (8/64)\u001b[K\rremote: Counting objects:  14% (9/64)\u001b[K\rremote: Counting objects:  15% (10/64)\u001b[K\rremote: Counting objects:  17% (11/64)\u001b[K\rremote: Counting objects:  18% (12/64)\u001b[K\rremote: Counting objects:  20% (13/64)\u001b[K\rremote: Counting objects:  21% (14/64)\u001b[K\rremote: Counting objects:  23% (15/64)\u001b[K\rremote: Counting objects:  25% (16/64)\u001b[K\rremote: Counting objects:  26% (17/64)\u001b[K\rremote: Counting objects:  28% (18/64)\u001b[K\rremote: Counting objects:  29% (19/64)\u001b[K\rremote: Counting objects:  31% (20/64)\u001b[K\rremote: Counting objects:  32% (21/64)\u001b[K\rremote: Counting objects:  34% (22/64)\u001b[K\rremote: Counting objects:  35% (23/64)\u001b[K\rremote: Counting objects:  37% (24/64)\u001b[K\rremote: Counting objects:  39% (25/64)\u001b[K\rremote: Counting objects:  40% (26/64)\u001b[K\rremote: Counting objects:  42% (27/64)\u001b[K\rremote: Counting objects:  43% (28/64)\u001b[K\rremote: Counting objects:  45% (29/64)\u001b[K\rremote: Counting objects:  46% (30/64)\u001b[K\rremote: Counting objects:  48% (31/64)\u001b[K\rremote: Counting objects:  50% (32/64)\u001b[K\rremote: Counting objects:  51% (33/64)\u001b[K\rremote: Counting objects:  53% (34/64)\u001b[K\rremote: Counting objects:  54% (35/64)\u001b[K\rremote: Counting objects:  56% (36/64)\u001b[K\rremote: Counting objects:  57% (37/64)\u001b[K\rremote: Counting objects:  59% (38/64)\u001b[K\rremote: Counting objects:  60% (39/64)\u001b[K\rremote: Counting objects:  62% (40/64)\u001b[K\rremote: Counting objects:  64% (41/64)\u001b[K\rremote: Counting objects:  65% (42/64)\u001b[K\rremote: Counting objects:  67% (43/64)\u001b[K\rremote: Counting objects:  68% (44/64)\u001b[K\rremote: Counting objects:  70% (45/64)\u001b[K\rremote: Counting objects:  71% (46/64)\u001b[K\rremote: Counting objects:  73% (47/64)\u001b[K\rremote: Counting objects:  75% (48/64)\u001b[K\rremote: Counting objects:  76% (49/64)\u001b[K\rremote: Counting objects:  78% (50/64)\u001b[K\rremote: Counting objects:  79% (51/64)\u001b[K\rremote: Counting objects:  81% (52/64)\u001b[K\rremote: Counting objects:  82% (53/64)\u001b[K\rremote: Counting objects:  84% (54/64)\u001b[K\rremote: Counting objects:  85% (55/64)\u001b[K\rremote: Counting objects:  87% (56/64)\u001b[K\rremote: Counting objects:  89% (57/64)\u001b[K\rremote: Counting objects:  90% (58/64)\u001b[K\rremote: Counting objects:  92% (59/64)\u001b[K\rremote: Counting objects:  93% (60/64)\u001b[K\rremote: Counting objects:  95% (61/64)\u001b[K\rremote: Counting objects:  96% (62/64)\u001b[K\rremote: Counting objects:  98% (63/64)\u001b[K\rremote: Counting objects: 100% (64/64)\u001b[K\rremote: Counting objects: 100% (64/64), done.\u001b[K\n",
            "remote: Compressing objects:   2% (1/48)\u001b[K\rremote: Compressing objects:   4% (2/48)\u001b[K\rremote: Compressing objects:   6% (3/48)\u001b[K\rremote: Compressing objects:   8% (4/48)\u001b[K\rremote: Compressing objects:  10% (5/48)\u001b[K\rremote: Compressing objects:  12% (6/48)\u001b[K\rremote: Compressing objects:  14% (7/48)\u001b[K\rremote: Compressing objects:  16% (8/48)\u001b[K\rremote: Compressing objects:  18% (9/48)\u001b[K\rremote: Compressing objects:  20% (10/48)\u001b[K\rremote: Compressing objects:  22% (11/48)\u001b[K\rremote: Compressing objects:  25% (12/48)\u001b[K\rremote: Compressing objects:  27% (13/48)\u001b[K\rremote: Compressing objects:  29% (14/48)\u001b[K\rremote: Compressing objects:  31% (15/48)\u001b[K\rremote: Compressing objects:  33% (16/48)\u001b[K\rremote: Compressing objects:  35% (17/48)\u001b[K\rremote: Compressing objects:  37% (18/48)\u001b[K\rremote: Compressing objects:  39% (19/48)\u001b[K\rremote: Compressing objects:  41% (20/48)\u001b[K\rremote: Compressing objects:  43% (21/48)\u001b[K\rremote: Compressing objects:  45% (22/48)\u001b[K\rremote: Compressing objects:  47% (23/48)\u001b[K\rremote: Compressing objects:  50% (24/48)\u001b[K\rremote: Compressing objects:  52% (25/48)\u001b[K\rremote: Compressing objects:  54% (26/48)\u001b[K\rremote: Compressing objects:  56% (27/48)\u001b[K\rremote: Compressing objects:  58% (28/48)\u001b[K\rremote: Compressing objects:  60% (29/48)\u001b[K\rremote: Compressing objects:  62% (30/48)\u001b[K\rremote: Compressing objects:  64% (31/48)\u001b[K\rremote: Compressing objects:  66% (32/48)\u001b[K\rremote: Compressing objects:  68% (33/48)\u001b[K\rremote: Compressing objects:  70% (34/48)\u001b[K\rremote: Compressing objects:  72% (35/48)\u001b[K\rremote: Compressing objects:  75% (36/48)\u001b[K\rremote: Compressing objects:  77% (37/48)\u001b[K\rremote: Compressing objects:  79% (38/48)\u001b[K\rremote: Compressing objects:  81% (39/48)\u001b[K\rremote: Compressing objects:  83% (40/48)\u001b[K\rremote: Compressing objects:  85% (41/48)\u001b[K\rremote: Compressing objects:  87% (42/48)\u001b[K\rremote: Compressing objects:  89% (43/48)\u001b[K\rremote: Compressing objects:  91% (44/48)\u001b[K\rremote: Compressing objects:  93% (45/48)\u001b[K\rremote: Compressing objects:  95% (46/48)\u001b[K\rremote: Compressing objects:  97% (47/48)\u001b[K\rremote: Compressing objects: 100% (48/48)\u001b[K\rremote: Compressing objects: 100% (48/48), done.\u001b[K\n",
            "Receiving objects:   0% (1/151)   \rReceiving objects:   1% (2/151)   \rReceiving objects:   2% (4/151)   \rReceiving objects:   3% (5/151)   \rReceiving objects:   4% (7/151)   \rReceiving objects:   5% (8/151)   \rReceiving objects:   6% (10/151)   \rReceiving objects:   7% (11/151)   \rReceiving objects:   8% (13/151)   \rReceiving objects:   9% (14/151)   \rReceiving objects:  10% (16/151)   \rReceiving objects:  11% (17/151)   \rReceiving objects:  12% (19/151)   \rReceiving objects:  13% (20/151)   \rReceiving objects:  14% (22/151)   \rReceiving objects:  15% (23/151)   \rReceiving objects:  16% (25/151)   \rReceiving objects:  17% (26/151)   \rReceiving objects:  18% (28/151)   \rremote: Total 151 (delta 35), reused 38 (delta 16), pack-reused 87\u001b[K\n",
            "Receiving objects:  19% (29/151)   \rReceiving objects:  20% (31/151)   \rReceiving objects:  21% (32/151)   \rReceiving objects:  22% (34/151)   \rReceiving objects:  23% (35/151)   \rReceiving objects:  24% (37/151)   \rReceiving objects:  25% (38/151)   \rReceiving objects:  26% (40/151)   \rReceiving objects:  27% (41/151)   \rReceiving objects:  28% (43/151)   \rReceiving objects:  29% (44/151)   \rReceiving objects:  30% (46/151)   \rReceiving objects:  31% (47/151)   \rReceiving objects:  32% (49/151)   \rReceiving objects:  33% (50/151)   \rReceiving objects:  34% (52/151)   \rReceiving objects:  35% (53/151)   \rReceiving objects:  36% (55/151)   \rReceiving objects:  37% (56/151)   \rReceiving objects:  38% (58/151)   \rReceiving objects:  39% (59/151)   \rReceiving objects:  40% (61/151)   \rReceiving objects:  41% (62/151)   \rReceiving objects:  42% (64/151)   \rReceiving objects:  43% (65/151)   \rReceiving objects:  44% (67/151)   \rReceiving objects:  45% (68/151)   \rReceiving objects:  46% (70/151)   \rReceiving objects:  47% (71/151)   \rReceiving objects:  48% (73/151)   \rReceiving objects:  49% (74/151)   \rReceiving objects:  50% (76/151)   \rReceiving objects:  51% (78/151)   \rReceiving objects:  52% (79/151)   \rReceiving objects:  53% (81/151)   \rReceiving objects:  54% (82/151)   \rReceiving objects:  55% (84/151)   \rReceiving objects:  56% (85/151)   \rReceiving objects:  57% (87/151)   \rReceiving objects:  58% (88/151)   \rReceiving objects:  59% (90/151)   \rReceiving objects:  60% (91/151)   \rReceiving objects:  61% (93/151)   \rReceiving objects:  62% (94/151)   \rReceiving objects:  63% (96/151)   \rReceiving objects:  64% (97/151)   \rReceiving objects:  65% (99/151)   \rReceiving objects:  66% (100/151)   \rReceiving objects:  67% (102/151)   \rReceiving objects:  68% (103/151)   \rReceiving objects:  69% (105/151)   \rReceiving objects:  70% (106/151)   \rReceiving objects:  71% (108/151)   \rReceiving objects:  72% (109/151)   \rReceiving objects:  73% (111/151)   \rReceiving objects:  74% (112/151)   \rReceiving objects:  75% (114/151)   \rReceiving objects:  76% (115/151)   \rReceiving objects:  77% (117/151)   \rReceiving objects:  78% (118/151)   \rReceiving objects:  79% (120/151)   \rReceiving objects:  80% (121/151)   \rReceiving objects:  81% (123/151)   \rReceiving objects:  82% (124/151)   \rReceiving objects:  83% (126/151)   \rReceiving objects:  84% (127/151)   \rReceiving objects:  85% (129/151)   \rReceiving objects:  86% (130/151)   \rReceiving objects:  87% (132/151)   \rReceiving objects:  88% (133/151)   \rReceiving objects:  89% (135/151)   \rReceiving objects:  90% (136/151)   \rReceiving objects:  91% (138/151)   \rReceiving objects:  92% (139/151)   \rReceiving objects:  93% (141/151)   \rReceiving objects:  94% (142/151)   \rReceiving objects:  95% (144/151)   \rReceiving objects:  96% (145/151)   \rReceiving objects:  97% (147/151)   \rReceiving objects:  98% (148/151)   \rReceiving objects:  99% (150/151)   \rReceiving objects: 100% (151/151)   \rReceiving objects: 100% (151/151), 4.67 MiB | 11.39 MiB/s, done.\n",
            "Resolving deltas:   0% (0/76)   \rResolving deltas:   1% (1/76)   \rResolving deltas:   7% (6/76)   \rResolving deltas:   9% (7/76)   \rResolving deltas:  11% (9/76)   \rResolving deltas:  13% (10/76)   \rResolving deltas:  15% (12/76)   \rResolving deltas:  18% (14/76)   \rResolving deltas:  19% (15/76)   \rResolving deltas:  27% (21/76)   \rResolving deltas:  32% (25/76)   \rResolving deltas:  36% (28/76)   \rResolving deltas:  42% (32/76)   \rResolving deltas:  43% (33/76)   \rResolving deltas:  46% (35/76)   \rResolving deltas:  51% (39/76)   \rResolving deltas:  75% (57/76)   \rResolving deltas:  80% (61/76)   \rResolving deltas:  88% (67/76)   \rResolving deltas:  93% (71/76)   \rResolving deltas:  96% (73/76)   \rResolving deltas:  97% (74/76)   \rResolving deltas: 100% (76/76)   \rResolving deltas: 100% (76/76), done.\n",
            "From https://github.com/anbubsc2k14/tableGAN\n",
            " * branch            HEAD       -> FETCH_HEAD\n"
          ],
          "name": "stdout"
        }
      ]
    },
    {
      "cell_type": "code",
      "metadata": {
        "id": "V7rT2R6LdrR6",
        "colab_type": "code",
        "colab": {
          "base_uri": "https://localhost:8080/",
          "height": 34
        },
        "outputId": "27e2efb5-fb4c-434b-b234-28df27ebd9ca"
      },
      "source": [
        "!python main.py --dataset=Adult --test_id=OI_11_00 --train"
      ],
      "execution_count": 3,
      "outputs": [
        {
          "output_type": "stream",
          "text": [
            "python3: can't open file 'main.py': [Errno 2] No such file or directory\n"
          ],
          "name": "stdout"
        }
      ]
    },
    {
      "cell_type": "code",
      "metadata": {
        "id": "S3KTANw0draJ",
        "colab_type": "code",
        "colab": {}
      },
      "source": [
        ""
      ],
      "execution_count": 0,
      "outputs": []
    },
    {
      "cell_type": "code",
      "metadata": {
        "id": "a8Y8nyoQdrc5",
        "colab_type": "code",
        "colab": {}
      },
      "source": [
        ""
      ],
      "execution_count": 0,
      "outputs": []
    }
  ]
}